{
  "nbformat": 4,
  "nbformat_minor": 0,
  "metadata": {
    "colab": {
      "provenance": []
    },
    "kernelspec": {
      "name": "python3",
      "display_name": "Python 3"
    },
    "language_info": {
      "name": "python"
    }
  },
  "cells": [
    {
      "cell_type": "markdown",
      "source": [
        "**THEORY QUESTIONS**"
      ],
      "metadata": {
        "id": "-JFtpqQ17WaC"
      }
    },
    {
      "cell_type": "code",
      "source": [],
      "metadata": {
        "id": "c5d7JE9M7a6e"
      },
      "execution_count": null,
      "outputs": []
    },
    {
      "cell_type": "markdown",
      "source": [
        "Q.1  What is statistics, and why is it important?\n",
        "\n",
        "ANS:\n",
        "Statistics is the branch of mathematics that involves collecting, analyzing, interpreting, presenting, and organizing data.\n",
        "Importance: It helps in making informed decisions based on data, identifying trends, predicting outcomes, and understanding complex phenomena in fields like business, healthcare, sports, government, and science."
      ],
      "metadata": {
        "id": "KJsBcBkl7bgW"
      }
    },
    {
      "cell_type": "markdown",
      "source": [
        "Q.2  What are the two main types of statistics?\n",
        "\n",
        "ANS:\n",
        "Descriptive Statistics: Summarizes and describes the main features of a dataset.\n",
        "\n",
        "Inferential Statistics: Makes predictions or inferences about a population based on a sample.\n",
        "\n"
      ],
      "metadata": {
        "id": "N17FX8w97fzI"
      }
    },
    {
      "cell_type": "markdown",
      "source": [
        "Q.3 What are descriptive statistics?\n",
        "\n",
        "ANS:\n",
        "These are techniques used to describe, summarize, and organize data. Examples include:\n",
        "\n",
        "Measures of central tendency (mean, median, mode)\n",
        "\n",
        "Measures of dispersion (range, variance, standard deviation)\n",
        "\n",
        "Frequency distributions, tables, and graphs"
      ],
      "metadata": {
        "id": "lm8pkGdy7m7C"
      }
    },
    {
      "cell_type": "markdown",
      "source": [
        "Q.4  What is inferential statistics?\n",
        "\n",
        "ANS:\n",
        "It involves making conclusions, predictions, or decisions about a population based on a sample of data. It uses probability theory to estimate population parameters, test hypotheses, and make forecasts.\n",
        "\n"
      ],
      "metadata": {
        "id": "aiHDKFnO7tvP"
      }
    },
    {
      "cell_type": "markdown",
      "source": [
        "Q.5 What is sampling in statistics?\n",
        "\n",
        "ANS:\n",
        "Sampling is the process of selecting a subset (sample) from a larger group (population) to gather insights and make inferences about the whole population without surveying every member."
      ],
      "metadata": {
        "id": "x2FYnxWJ7y9D"
      }
    },
    {
      "cell_type": "markdown",
      "source": [
        "Q.6 What are the different types of sampling methods?\n",
        "\n",
        "ANS:\n",
        "Random Sampling\n",
        "\n",
        "Systematic Sampling\n",
        "\n",
        "Stratified Sampling\n",
        "\n",
        "Cluster Sampling\n",
        "\n",
        "Convenience Sampling\n",
        "\n",
        "Judgmental (Purposive) Sampling\n",
        "\n",
        "Quota Sampling\n",
        "\n",
        "Snowball Sampling\n",
        "\n"
      ],
      "metadata": {
        "id": "oKxpyW1B7-X8"
      }
    },
    {
      "cell_type": "markdown",
      "source": [
        "Q.7 What is the difference between random and non-random sampling?\n",
        "\n",
        "ANS:\n",
        "Random Sampling: Every member has an equal chance of being selected (e.g. lottery draw).\n",
        "\n",
        "Non-Random Sampling: Selection is based on non-random criteria (e.g. choosing friends, convenience, or judgment).\n",
        "\n"
      ],
      "metadata": {
        "id": "0b6txJq-8Ck0"
      }
    },
    {
      "cell_type": "markdown",
      "source": [
        "Q.8 Define and give examples of qualitative and quantitative data.\n",
        "\n",
        "ANS:\n",
        "Qualitative Data: Descriptive, categorical information (e.g. colors, gender, marital status)\n",
        "\n",
        "Quantitative Data: Numerical information (e.g. age, height, income)"
      ],
      "metadata": {
        "id": "arZeDaoz8HFP"
      }
    },
    {
      "cell_type": "markdown",
      "source": [
        "Q.9 What are the different types of data in statistics?\n",
        "\n",
        "ANS:\n",
        "Qualitative (Categorical) Data\n",
        "\n",
        "Quantitative (Numerical) Data\n",
        "\n",
        "Discrete Data (countable, e.g. number of students)\n",
        "\n",
        "Continuous Data (measurable, e.g. weight, temperature)"
      ],
      "metadata": {
        "id": "ZLFnqFQ-8Nox"
      }
    },
    {
      "cell_type": "markdown",
      "source": [
        "Q.10 Explain nominal, ordinal, interval, and ratio levels of measurement.\n",
        "\n",
        "ANS:\n",
        "Nominal: Categories without order (e.g. blood type, gender)\n",
        "\n",
        "Ordinal: Categories with order but no fixed intervals (e.g. rankings, satisfaction levels)\n",
        "\n",
        "Interval: Ordered with equal intervals but no true zero (e.g. temperature in °C)\n",
        "\n",
        "Ratio: Ordered, equal intervals, and a true zero point (e.g. height, weight, income)\n",
        "\n"
      ],
      "metadata": {
        "id": "YQ-MvQGv8S_d"
      }
    },
    {
      "cell_type": "markdown",
      "source": [
        "Q.11  What is the measure of central tendency?\n",
        "\n",
        "ANS:\n",
        "Measures used to identify the central or typical value within a dataset. The main measures are:\n",
        "\n",
        "Mean\n",
        "\n",
        "Median\n",
        "\n",
        "Mode\n",
        "\n"
      ],
      "metadata": {
        "id": "jQT6Rn4J8ZJQ"
      }
    },
    {
      "cell_type": "markdown",
      "source": [
        "Q.12 Define mean, median, and mode.\n",
        "\n",
        "ANS:\n",
        "Mean: Average value (sum of values ÷ number of values)\n",
        "\n",
        "Median: Middle value when data is ordered\n",
        "\n",
        "Mode: Most frequently occurring value"
      ],
      "metadata": {
        "id": "PpScySiE8dKu"
      }
    },
    {
      "cell_type": "markdown",
      "source": [
        "Q.13 What is the significance of the measure of central tendency?\n",
        "\n",
        "ANS:\n",
        "It provides a summary number that represents the center point or typical value of a dataset, helping to quickly understand data distribution and compare datasets."
      ],
      "metadata": {
        "id": "AEzZ2FgE8h6s"
      }
    },
    {
      "cell_type": "markdown",
      "source": [
        "Q.14  What is variance, and how is it calculated?\n",
        "Variance measures how far each value in a dataset is from the mean.\n",
        "\n",
        "Formula:\n",
        "Variance\n",
        "(\n",
        "𝜎\n",
        "2\n",
        ")\n",
        "=\n",
        "∑\n",
        "(\n",
        "𝑥\n",
        "𝑖\n",
        "−\n",
        "𝑥\n",
        "ˉ\n",
        ")\n",
        "2\n",
        "𝑛\n",
        "Variance(σ\n",
        "2\n",
        " )=\n",
        "n\n",
        "∑(x\n",
        "i\n",
        "​\n",
        " −\n",
        "x\n",
        "ˉ\n",
        " )\n",
        "2\n",
        "\n",
        "​\n",
        "\n",
        "\n",
        "Where\n",
        "𝑥\n",
        "𝑖\n",
        "x\n",
        "i\n",
        "​\n",
        "  = each value,\n",
        "𝑥\n",
        "ˉ\n",
        "x\n",
        "ˉ\n",
        "  = mean,\n",
        "𝑛\n",
        "n = number of values."
      ],
      "metadata": {
        "id": "3-ovm3ND8w5a"
      }
    },
    {
      "cell_type": "markdown",
      "source": [
        "Q.15 What is standard deviation, and why is it important?\n",
        "\n",
        "ANS:\n",
        "Standard deviation (SD) is the square root of variance. It measures the average distance of values from the mean, indicating the spread or variability of a dataset.\n",
        "\n",
        "Importance: Easier to interpret (same units as the data) and widely used in risk analysis, quality control, and finance"
      ],
      "metadata": {
        "id": "mVY67oO-84cD"
      }
    },
    {
      "cell_type": "markdown",
      "source": [
        "Q.16 Define and explain the term range in statistics.\n",
        "\n",
        "ANS:\n",
        "Range is the difference between the highest and lowest values in a dataset.\n",
        "\n",
        "Formula:\n",
        "Range\n",
        "=\n",
        "Maximum value\n",
        "−\n",
        "Minimum value\n",
        "Range=Maximum value−Minimum value\n",
        "\n",
        "It gives a quick sense of data spread."
      ],
      "metadata": {
        "id": "t0KTzzIY89XU"
      }
    },
    {
      "cell_type": "markdown",
      "source": [
        "Q.17 What is the difference between variance and standard deviation?\n",
        "\n",
        "ANS:\n",
        "Variance: Measures average squared deviation from the mean.\n",
        "\n",
        "Standard Deviation: Square root of variance; expresses dispersion in the same units as the data.\n",
        "\n"
      ],
      "metadata": {
        "id": "pd5fJ34g9C8K"
      }
    },
    {
      "cell_type": "markdown",
      "source": [
        "Q.18  What is skewness in a dataset?\n",
        "\n",
        "ANS:\n",
        "Skewness measures the asymmetry of the distribution of values in a dataset.\n",
        "\n",
        "Positive skew: Longer tail on the right.\n",
        "\n",
        "Negative skew: Longer tail on the left."
      ],
      "metadata": {
        "id": "Uw7JigBf9HxQ"
      }
    },
    {
      "cell_type": "markdown",
      "source": [
        "Q.19  What does it mean if a dataset is positively or negatively skewed?\n",
        "\n",
        "ANS:\n",
        "Positively Skewed: Majority of data is on the left; mean > median.\n",
        "\n",
        "Negatively Skewed: Majority of data is on the right; mean < median.\n",
        "\n"
      ],
      "metadata": {
        "id": "odhj8vgq9Mkz"
      }
    },
    {
      "cell_type": "markdown",
      "source": [
        "Q.20 Define and explain kurtosis.\n",
        "\n",
        "ANS:\n",
        "Kurtosis measures the tailedness of a distribution.\n",
        "\n",
        "High kurtosis: Heavy tails (more outliers)\n",
        "\n",
        "Low kurtosis: Light tails (fewer outliers)\n",
        "\n",
        "Helps assess risk and the presence of extreme values.\n",
        "\n"
      ],
      "metadata": {
        "id": "UpwIt_ax9Rms"
      }
    },
    {
      "cell_type": "markdown",
      "source": [
        "Q.21 What is the purpose of covariance?\n",
        "\n",
        "ANS:\n",
        "Covariance indicates the direction of the linear relationship between two variables.\n",
        "\n",
        "Positive value: variables move in the same direction.\n",
        "\n",
        "Negative value: variables move in opposite directions.\n",
        "\n"
      ],
      "metadata": {
        "id": "B_GU0HQu9V4k"
      }
    },
    {
      "cell_type": "markdown",
      "source": [
        "Q.22 What does correlation measure in statistics?\n",
        "\n",
        "ANS:\n",
        "Correlation measures both the strength and direction of the linear relationship between two variables, ranging from -1 to +1.\n",
        "\n"
      ],
      "metadata": {
        "id": "2Rm6IHeT9dR1"
      }
    },
    {
      "cell_type": "markdown",
      "source": [
        "Q.23 What is the difference between covariance and correlation?\n",
        "\n",
        "ANS:\n",
        "UNIT OF COVARIANCE IS PRODUCT OF UNITS OF VARIABLES WHILE CORRELATION IS UNITLESS,PURPOSE OF COVARIANCE IS DIRECTION OF RELATIONSHIP WHILE PURPOSE OF CORRELATION IS STRENGTH AND DIRECTION OF RELATIONSHIP\n",
        "\n"
      ],
      "metadata": {
        "id": "jaK9TnvB9kYm"
      }
    },
    {
      "cell_type": "markdown",
      "source": [
        "Q.24  What are some real-world applications of statistics?\n",
        "\n",
        "ANS:\n",
        "Business forecasting and decision-making\n",
        "\n",
        "Healthcare research and clinical trials\n",
        "\n",
        "Quality control in manufacturing\n",
        "\n",
        "Sports performance analysis\n",
        "\n",
        "Public health and policy making\n",
        "\n",
        "Stock market and risk analysis\n",
        "\n",
        "Education performance evaluation\n",
        "\n"
      ],
      "metadata": {
        "id": "65l5KnYJ9uR7"
      }
    },
    {
      "cell_type": "markdown",
      "source": [
        "**PRACTICAL QUESTIONS**"
      ],
      "metadata": {
        "id": "sXitFLb4-ELz"
      }
    },
    {
      "cell_type": "code",
      "source": [
        "#Q.1 How do you calculate the mean, median, and mode of a dataset?\n",
        "\n",
        "import numpy as np\n",
        "from statistics import mode\n",
        "\n",
        "data = [5, 8, 7, 5, 9, 12, 5]\n",
        "\n",
        "mean = np.mean(data)\n",
        "median = np.median(data)\n",
        "mode_value = mode(data)\n",
        "\n",
        "print(\"Mean:\", mean)\n",
        "print(\"Median:\", median)\n",
        "print(\"Mode:\", mode_value)\n"
      ],
      "metadata": {
        "colab": {
          "base_uri": "https://localhost:8080/"
        },
        "id": "ZI4GLD3V7e_Z",
        "outputId": "a4604943-81a1-4c3c-a384-c91e8b7ec243"
      },
      "execution_count": 1,
      "outputs": [
        {
          "output_type": "stream",
          "name": "stdout",
          "text": [
            "Mean: 7.285714285714286\n",
            "Median: 7.0\n",
            "Mode: 5\n"
          ]
        }
      ]
    },
    {
      "cell_type": "code",
      "source": [
        "#Q.2  Write a Python program to compute the variance and standard deviation of a dataset.\n",
        "#ANS:\n",
        "import numpy as np\n",
        "\n",
        "data = [10, 12, 23, 23, 16, 23, 21, 16]\n",
        "\n",
        "variance = np.var(data)\n",
        "std_dev = np.std(data)\n",
        "\n",
        "print(\"Variance:\", variance)\n",
        "print(\"Standard Deviation:\", std_dev)\n"
      ],
      "metadata": {
        "colab": {
          "base_uri": "https://localhost:8080/"
        },
        "id": "eQ0-3kQ9_Ypa",
        "outputId": "4003c719-5651-4034-fb15-9ba9d692ded3"
      },
      "execution_count": 2,
      "outputs": [
        {
          "output_type": "stream",
          "name": "stdout",
          "text": [
            "Variance: 24.0\n",
            "Standard Deviation: 4.898979485566356\n"
          ]
        }
      ]
    },
    {
      "cell_type": "code",
      "source": [
        "#Q.3 Create a dataset and classify it into nominal, ordinal, interval, and ratio types\n",
        "#ANS:\n",
        "dataset = {\n",
        "    'Gender': ['Male', 'Female', 'Female', 'Male'],  # Nominal\n",
        "    'Education_Level': ['High School', 'Bachelor', 'Master', 'PhD'],  # Ordinal\n",
        "    'Temperature_C': [30, 22, 27, 25],  # Interval\n",
        "    'Salary': [30000, 50000, 70000, 90000]  # Ratio\n",
        "    }\n"
      ],
      "metadata": {
        "id": "SsWEz_Bw_3mv"
      },
      "execution_count": 5,
      "outputs": []
    },
    {
      "cell_type": "code",
      "source": [
        "#Q.4 Implement sampling techniques like random sampling and stratified sampling.\n",
        "#ANS:\n",
        "#RANDOM SAMPLING\n",
        "\n",
        "import numpy as np\n",
        "\n",
        "data = np.arange(1, 101)\n",
        "random_sample = np.random.choice(data, size=10, replace=False)\n",
        "print(\"Random Sample:\", random_sample)\n",
        "\n"
      ],
      "metadata": {
        "colab": {
          "base_uri": "https://localhost:8080/"
        },
        "id": "SQVAUaSoAIp8",
        "outputId": "2bdb1e54-0565-43a8-f514-68982193d439"
      },
      "execution_count": 7,
      "outputs": [
        {
          "output_type": "stream",
          "name": "stdout",
          "text": [
            "Random Sample: [78 18 24 37 22 17 54 62 73  3]\n"
          ]
        }
      ]
    },
    {
      "cell_type": "code",
      "source": [
        "#STRATIFIED SAMPLING\n",
        "\n",
        "import pandas as pd\n",
        "from sklearn.model_selection import train_test_split\n",
        "\n",
        "data = pd.DataFrame({\n",
        "    'Category': ['A', 'A', 'B', 'B', 'C', 'C', 'C', 'C'],\n",
        "    'Value': [10, 20, 30, 40, 50, 60, 70, 80]\n",
        "})\n",
        "\n",
        "train, test = train_test_split(data, test_size=0.5, stratify=data['Category'])\n",
        "print(\"Stratified Sample:\\n\", test)\n"
      ],
      "metadata": {
        "colab": {
          "base_uri": "https://localhost:8080/"
        },
        "id": "gzjvqRKgAYvY",
        "outputId": "e2c3bd7c-b9d4-4b84-ee6d-c8cee085feb9"
      },
      "execution_count": 8,
      "outputs": [
        {
          "output_type": "stream",
          "name": "stdout",
          "text": [
            "Stratified Sample:\n",
            "   Category  Value\n",
            "6        C     70\n",
            "3        B     40\n",
            "4        C     50\n",
            "1        A     20\n"
          ]
        }
      ]
    },
    {
      "cell_type": "code",
      "source": [
        "#Q.5 Write a Python function to calculate the range of a dataset.\n",
        "def calculate_range(data):\n",
        "    return max(data) - min(data)\n",
        "\n",
        "data = [4, 8, 15, 16, 23, 42]\n",
        "print(\"Range:\", calculate_range(data))\n"
      ],
      "metadata": {
        "colab": {
          "base_uri": "https://localhost:8080/"
        },
        "id": "olmwJZPoAkoD",
        "outputId": "87e4197f-9972-432a-af29-ef95a0d3fd91"
      },
      "execution_count": 9,
      "outputs": [
        {
          "output_type": "stream",
          "name": "stdout",
          "text": [
            "Range: 38\n"
          ]
        }
      ]
    },
    {
      "cell_type": "code",
      "source": [
        "#Q.6  Create a dataset and plot its histogram to visualize skewness.\n",
        "import numpy as np\n",
        "import matplotlib.pyplot as plt\n",
        "\n",
        "data = np.random.exponential(size=1000)\n",
        "\n",
        "plt.hist(data, bins=30, edgecolor='black')\n",
        "plt.title('Histogram to Visualize Skewness')\n",
        "plt.show()\n"
      ],
      "metadata": {
        "colab": {
          "base_uri": "https://localhost:8080/",
          "height": 452
        },
        "id": "3lngJyJjAu7R",
        "outputId": "65332f67-9806-4b57-c876-3481ed4379a6"
      },
      "execution_count": 10,
      "outputs": [
        {
          "output_type": "display_data",
          "data": {
            "text/plain": [
              "<Figure size 640x480 with 1 Axes>"
            ],
            "image/png": "[encoded data removed]"
          },
          "metadata": {}
        }
      ]
    },
    {
      "cell_type": "code",
      "source": [
        "#Q.7 Calculate skewness and kurtosis of a dataset using Python libraries.\n",
        "from scipy.stats import skew, kurtosis\n",
        "\n",
        "data = np.random.normal(0, 1, 1000)\n",
        "\n",
        "print(\"Skewness:\", skew(data))\n",
        "print(\"Kurtosis:\", kurtosis(data))\n",
        "\n"
      ],
      "metadata": {
        "colab": {
          "base_uri": "https://localhost:8080/"
        },
        "id": "M9JEWa0fA7Ij",
        "outputId": "f1e69543-72d9-4678-c8fd-0731d628af44"
      },
      "execution_count": 11,
      "outputs": [
        {
          "output_type": "stream",
          "name": "stdout",
          "text": [
            "Skewness: -0.13911070701819403\n",
            "Kurtosis: 0.05081350767639403\n"
          ]
        }
      ]
    },
    {
      "cell_type": "code",
      "source": [
        "#Q.8  Generate a dataset and demonstrate positive and negative skewness.\n",
        "#ANS:\n",
        "# Positive Skew\n",
        "pos_skew = np.random.exponential(scale=2, size=1000)\n",
        "\n",
        "# Negative Skew\n",
        "neg_skew = -np.random.exponential(scale=2, size=1000)\n",
        "\n",
        "# Plotting\n",
        "plt.hist(pos_skew, bins=30)\n",
        "plt.title('Positively Skewed Data')\n",
        "plt.show()\n",
        "\n",
        "plt.hist(neg_skew, bins=30)\n",
        "plt.title('Negatively Skewed Data')\n",
        "plt.show()\n"
      ],
      "metadata": {
        "colab": {
          "base_uri": "https://localhost:8080/",
          "height": 887
        },
        "id": "Wnh-kiKyBKCE",
        "outputId": "3402309a-2a9d-4efa-930a-a4453cec73a2"
      },
      "execution_count": 12,
      "outputs": [
        {
          "output_type": "display_data",
          "data": {
            "text/plain": [
              "<Figure size 640x480 with 1 Axes>"
            ],
            "image/png": "[encoded data removed]"
          },
          "metadata": {}
        },
        {
          "output_type": "display_data",
          "data": {
            "text/plain": [
              "<Figure size 640x480 with 1 Axes>"
            ],
            "image/png": "[encoded data removed]"
          },
          "metadata": {}
        }
      ]
    },
    {
      "cell_type": "code",
      "source": [
        "#Q.9 Write a Python script to calculate covariance between two datasets.\n",
        "#ANS:\n",
        "import numpy as np\n",
        "\n",
        "x = [2, 4, 6, 8]\n",
        "y = [1, 3, 5, 7]\n",
        "\n",
        "covariance = np.cov(x, y)[0][1]\n",
        "print(\"Covariance:\", covariance)\n"
      ],
      "metadata": {
        "colab": {
          "base_uri": "https://localhost:8080/"
        },
        "id": "Yrszt_b2BaH9",
        "outputId": "643138c3-c17b-40b2-8808-c680ad210446"
      },
      "execution_count": 13,
      "outputs": [
        {
          "output_type": "stream",
          "name": "stdout",
          "text": [
            "Covariance: 6.666666666666666\n"
          ]
        }
      ]
    },
    {
      "cell_type": "code",
      "source": [
        "#Q.10  Write a Python script to calculate the correlation coefficient between two datasets.\n",
        "#ANS:\n",
        "import numpy as np\n",
        "\n",
        "x = [2, 4, 6, 8]\n",
        "y = [1, 3, 5, 7]\n",
        "\n",
        "correlation_coefficient = np.corrcoef(x, y)[0][1]\n",
        "print(\"Correlation Coefficient:\", correlation_coefficient)"
      ],
      "metadata": {
        "colab": {
          "base_uri": "https://localhost:8080/"
        },
        "id": "npxupBNRBkxS",
        "outputId": "9a238f76-63c0-42b5-d829-160ec04c8e49"
      },
      "execution_count": 14,
      "outputs": [
        {
          "output_type": "stream",
          "name": "stdout",
          "text": [
            "Correlation Coefficient: 1.0\n"
          ]
        }
      ]
    },
    {
      "cell_type": "code",
      "source": [
        "#Q.11  Create a scatter plot to visualize the relationship between two variables\n",
        "#ANS:\n",
        "\n",
        "import matplotlib.pyplot as plt\n",
        "\n",
        "x = [1, 2, 3, 4, 5]\n",
        "y = [2, 4, 5, 4, 5]\n",
        "\n",
        "plt.scatter(x, y)\n",
        "plt.title('Scatter Plot')\n",
        "plt.xlabel('X Variable')\n",
        "plt.ylabel('Y Variable')\n",
        "plt.show()\n"
      ],
      "metadata": {
        "colab": {
          "base_uri": "https://localhost:8080/",
          "height": 472
        },
        "id": "GyXn4HMcBx8q",
        "outputId": "2d7dff6f-4aac-4f18-ac33-2f372d991c65"
      },
      "execution_count": 15,
      "outputs": [
        {
          "output_type": "display_data",
          "data": {
            "text/plain": [
              "<Figure size 640x480 with 1 Axes>"
            ],
            "image/png": "[encoded data removed]"
          },
          "metadata": {}
        }
      ]
    },
    {
      "cell_type": "code",
      "source": [
        "#Q.12 Implement and compare simple random sampling and systematic sampling.\n",
        "#ANS:\n",
        "\n",
        "#SIMPLE RANDOM SAMPLING\n",
        "data = np.arange(1, 101)\n",
        "random_sample = np.random.choice(data, size=10, replace=False)\n",
        "print(\"Simple Random Sample:\", random_sample)\n",
        "\n"
      ],
      "metadata": {
        "colab": {
          "base_uri": "https://localhost:8080/"
        },
        "id": "g_ACSI98B91T",
        "outputId": "1925d02c-d874-4adc-d866-9cbc552db264"
      },
      "execution_count": 16,
      "outputs": [
        {
          "output_type": "stream",
          "name": "stdout",
          "text": [
            "Simple Random Sample: [20  5 66 98 11 13  8  6 15 72]\n"
          ]
        }
      ]
    },
    {
      "cell_type": "code",
      "source": [
        "#SYSTEMATIC SAMPLING\n",
        "k = 10  # sampling interval\n",
        "start = np.random.randint(0, k)\n",
        "systematic_sample = data[start::k]\n",
        "print(\"Systematic Sample:\", systematic_sample)\n",
        "\n"
      ],
      "metadata": {
        "colab": {
          "base_uri": "https://localhost:8080/"
        },
        "id": "h91SYa55CKmm",
        "outputId": "0494ccb2-238b-4a1f-8391-764b622d065b"
      },
      "execution_count": 17,
      "outputs": [
        {
          "output_type": "stream",
          "name": "stdout",
          "text": [
            "Systematic Sample: [ 1 11 21 31 41 51 61 71 81 91]\n"
          ]
        }
      ]
    },
    {
      "cell_type": "code",
      "source": [
        "#Q.13 Calculate the mean, median, and mode of grouped data.\n",
        "#ANS:\n",
        "\n",
        "#GROUPED DATA EXAMPLE\n",
        "\n",
        "import pandas as pd\n",
        "from statistics import mode\n",
        "\n",
        "data = pd.Series([10, 20, 20, 30, 30, 30, 40, 50, 50])\n",
        "\n",
        "mean = data.mean()\n",
        "median = data.median()\n",
        "mode_value = mode(data)\n",
        "\n",
        "print(\"Mean:\", mean)\n",
        "print(\"Median:\", median)\n",
        "print(\"Mode:\", mode_value)\n"
      ],
      "metadata": {
        "colab": {
          "base_uri": "https://localhost:8080/"
        },
        "id": "EpO7q2dZCPrp",
        "outputId": "eb93c764-1e4e-4b8e-d1fc-06dca255eb06"
      },
      "execution_count": 18,
      "outputs": [
        {
          "output_type": "stream",
          "name": "stdout",
          "text": [
            "Mean: 31.11111111111111\n",
            "Median: 30.0\n",
            "Mode: 30\n"
          ]
        }
      ]
    },
    {
      "cell_type": "code",
      "source": [
        "#Q.14 Simulate data using Python and calculate its central tendency and dispersion.\n",
        "#ANS:\n",
        "data = np.random.normal(loc=50, scale=10, size=1000)\n",
        "\n",
        "mean = np.mean(data)\n",
        "median = np.median(data)\n",
        "std_dev = np.std(data)\n",
        "variance = np.var(data)\n",
        "range_value = np.ptp(data)\n",
        "\n",
        "print(\"Mean:\", mean)\n",
        "print(\"Median:\", median)\n",
        "print(\"Standard Deviation:\", std_dev)\n",
        "print(\"Variance:\", variance)\n",
        "print(\"Range:\", range_value)\n",
        "\n",
        "\n"
      ],
      "metadata": {
        "colab": {
          "base_uri": "https://localhost:8080/"
        },
        "id": "XNnrUrLSCao0",
        "outputId": "ed044bcc-5b52-485e-e8da-8f67476bddeb"
      },
      "execution_count": 19,
      "outputs": [
        {
          "output_type": "stream",
          "name": "stdout",
          "text": [
            "Mean: 50.256243815232914\n",
            "Median: 50.01003759484515\n",
            "Standard Deviation: 10.059859539696703\n",
            "Variance: 101.20077395842675\n",
            "Range: 61.76395277244314\n"
          ]
        }
      ]
    },
    {
      "cell_type": "code",
      "source": [
        "#Q.15  Use NumPy or pandas to summarize a dataset’s descriptive statistics.\n",
        "#ANS:\n",
        "import pandas as pd\n",
        "import numpy as np\n",
        "\n",
        "data = pd.DataFrame({\n",
        "    'Age': [21, 22, 23, 24, 25],\n",
        "    'Salary': [30000, 35000, 40000, 45000, 50000]\n",
        "})\n",
        "\n",
        "print(data.describe())\n"
      ],
      "metadata": {
        "colab": {
          "base_uri": "https://localhost:8080/"
        },
        "id": "OuhzDaNFCjKE",
        "outputId": "c0943171-b937-4b0e-b0b1-cda33047972a"
      },
      "execution_count": 20,
      "outputs": [
        {
          "output_type": "stream",
          "name": "stdout",
          "text": [
            "             Age       Salary\n",
            "count   5.000000      5.00000\n",
            "mean   23.000000  40000.00000\n",
            "std     1.581139   7905.69415\n",
            "min    21.000000  30000.00000\n",
            "25%    22.000000  35000.00000\n",
            "50%    23.000000  40000.00000\n",
            "75%    24.000000  45000.00000\n",
            "max    25.000000  50000.00000\n"
          ]
        }
      ]
    },
    {
      "cell_type": "code",
      "source": [
        "#Q.16 Plot a boxplot to understand the spread and identify outliers.\n",
        "#ANS:\n",
        "\n",
        "import seaborn as sns\n",
        "import matplotlib.pyplot as plt\n",
        "\n",
        "data = [10, 12, 14, 15, 16, 17, 18, 19, 22, 100]  # 100 is an outlier\n",
        "\n",
        "sns.boxplot(data=data)\n",
        "plt.title('Boxplot to Identify Outliers')\n",
        "plt.show()\n"
      ],
      "metadata": {
        "colab": {
          "base_uri": "https://localhost:8080/",
          "height": 433
        },
        "id": "DGslrUF3CyUe",
        "outputId": "47adc18f-a3a1-477d-b2ff-50b41d66f6c4"
      },
      "execution_count": 21,
      "outputs": [
        {
          "output_type": "display_data",
          "data": {
            "text/plain": [
              "<Figure size 640x480 with 1 Axes>"
            ],
            "image/png": "[encoded data removed]"
          },
          "metadata": {}
        }
      ]
    },
    {
      "cell_type": "code",
      "source": [
        "#Q.17 Calculate the interquartile range (IQR) of a dataset,\n",
        "#ANS:\n",
        "\n",
        "import numpy as np\n",
        "\n",
        "data = np.array([5, 7, 8, 12, 13, 14, 18, 21, 22, 25])\n",
        "\n",
        "Q1 = np.percentile(data, 25)\n",
        "Q3 = np.percentile(data, 75)\n",
        "IQR = Q3 - Q1\n",
        "\n",
        "print(\"Interquartile Range (IQR):\", IQR)\n"
      ],
      "metadata": {
        "colab": {
          "base_uri": "https://localhost:8080/"
        },
        "id": "Dh5G0Z_QC-of",
        "outputId": "e4d0e928-0bea-4e6a-b82d-8218bbb2e11c"
      },
      "execution_count": 22,
      "outputs": [
        {
          "output_type": "stream",
          "name": "stdout",
          "text": [
            "Interquartile Range (IQR): 11.25\n"
          ]
        }
      ]
    },
    {
      "cell_type": "code",
      "source": [
        "#Q.18  Implement Z-score normalization and explain its significance.\n",
        "#ANS:\n",
        "from scipy.stats import zscore\n",
        "\n",
        "data = np.array([10, 20, 30, 40, 50])\n",
        "z_scores = zscore(data)\n",
        "\n",
        "print(\"Z-scores:\", z_scores)\n"
      ],
      "metadata": {
        "colab": {
          "base_uri": "https://localhost:8080/"
        },
        "id": "-FenEdN3DIyK",
        "outputId": "ccb69f4a-b359-49d2-f002-fd970d5dc527"
      },
      "execution_count": 23,
      "outputs": [
        {
          "output_type": "stream",
          "name": "stdout",
          "text": [
            "Z-scores: [-1.41421356 -0.70710678  0.          0.70710678  1.41421356]\n"
          ]
        }
      ]
    },
    {
      "cell_type": "code",
      "source": [
        "#Q.19  Compare two datasets using their standard deviations.\n",
        "#ANS:\n",
        "\n",
        "data1 = np.array([10, 20, 30, 40, 50])\n",
        "data2 = np.array([15, 18, 19, 21, 22])\n",
        "\n",
        "std_dev1 = np.std(data1)\n",
        "std_dev2 = np.std(data2)\n",
        "\n",
        "print(\"Standard Deviation of Data1:\", std_dev1)\n",
        "print(\"Standard Deviation of Data2:\", std_dev2)\n",
        "\n",
        "\n"
      ],
      "metadata": {
        "colab": {
          "base_uri": "https://localhost:8080/"
        },
        "id": "vIi5mUr_DQgZ",
        "outputId": "2dda7b28-0821-4fb6-fdc7-20bba2cb79d4"
      },
      "execution_count": 24,
      "outputs": [
        {
          "output_type": "stream",
          "name": "stdout",
          "text": [
            "Standard Deviation of Data1: 14.142135623730951\n",
            "Standard Deviation of Data2: 2.449489742783178\n"
          ]
        }
      ]
    },
    {
      "cell_type": "code",
      "source": [
        "#Q.2O  Write a Python program to visualize covariance using a heatmap.\n",
        "#ANS:\n",
        "\n",
        "\n",
        "import seaborn as sns\n",
        "import pandas as pd\n",
        "import matplotlib.pyplot as plt\n",
        "\n",
        "data = pd.DataFrame({\n",
        "    'A': [10, 20, 30, 40, 50],\n",
        "    'B': [15, 25, 35, 45, 55],\n",
        "    'C': [20, 22, 24, 26, 28]\n",
        "})\n",
        "\n",
        "cov_matrix = data.cov()\n",
        "\n",
        "sns.heatmap(cov_matrix, annot=True, cmap='coolwarm')\n",
        "plt.title('Covariance Heatmap')\n",
        "plt.show()\n",
        "\n"
      ],
      "metadata": {
        "colab": {
          "base_uri": "https://localhost:8080/",
          "height": 452
        },
        "id": "W-zxYYilDZ0p",
        "outputId": "eea415cb-a10d-48ec-db16-f65838c2c141"
      },
      "execution_count": 25,
      "outputs": [
        {
          "output_type": "display_data",
          "data": {
            "text/plain": [
              "<Figure size 640x480 with 2 Axes>"
            ],
            "image/png": "[encoded data removed]"
          },
          "metadata": {}
        }
      ]
    },
    {
      "cell_type": "code",
      "source": [
        "#Q.21  Use seaborn to create a correlation matrix for a dataset.\n",
        "#ANS:\n",
        "corr_matrix = data.corr()\n",
        "\n",
        "sns.heatmap(corr_matrix, annot=True, cmap='YlGnBu')\n",
        "plt.title('Correlation Matrix')\n",
        "plt.show()\n",
        "\n"
      ],
      "metadata": {
        "colab": {
          "base_uri": "https://localhost:8080/",
          "height": 452
        },
        "id": "awzy1dBQDhSD",
        "outputId": "d1e0f741-b192-4d71-dc7c-03c8014ae2cc"
      },
      "execution_count": 26,
      "outputs": [
        {
          "output_type": "display_data",
          "data": {
            "text/plain": [
              "<Figure size 640x480 with 2 Axes>"
            ],
            "image/png": "[encoded data removed]"
          },
          "metadata": {}
        }
      ]
    },
    {
      "cell_type": "code",
      "source": [
        "#Q.22  Generate a dataset and implement both variance and standard deviation computations\n",
        "#ANS:\n",
        "\n",
        "data = np.random.randint(10, 50, size=10)\n",
        "\n",
        "variance = np.var(data)\n",
        "std_dev = np.std(data)\n",
        "\n",
        "print(\"Dataset:\", data)\n",
        "print(\"Variance:\", variance)\n",
        "print(\"Standard Deviation:\", std_dev)\n",
        "\n"
      ],
      "metadata": {
        "colab": {
          "base_uri": "https://localhost:8080/"
        },
        "id": "rnmHscsRDoKS",
        "outputId": "36a30c81-6a34-48cd-bbf8-3b4137ff909c"
      },
      "execution_count": 27,
      "outputs": [
        {
          "output_type": "stream",
          "name": "stdout",
          "text": [
            "Dataset: [39 34 23 49 22 29 44 40 35 11]\n",
            "Variance: 118.64000000000001\n",
            "Standard Deviation: 10.892199043352083\n"
          ]
        }
      ]
    },
    {
      "cell_type": "code",
      "source": [
        "#Q.23 Visualize skewness and kurtosis using Python libraries like matplotlib or seaborn\n",
        "#ANS:\n",
        "\n",
        "from scipy.stats import skew, kurtosis\n",
        "import seaborn as sns\n",
        "import matplotlib.pyplot as plt\n",
        "\n",
        "data = np.random.normal(0, 1, 1000)\n",
        "\n",
        "sns.histplot(data, kde=True)\n",
        "plt.title('Histogram with KDE')\n",
        "\n",
        "plt.show()\n",
        "\n",
        "print(\"Skewness:\", skew(data))\n",
        "print(\"Kurtosis:\", kurtosis(data))\n"
      ],
      "metadata": {
        "colab": {
          "base_uri": "https://localhost:8080/",
          "height": 487
        },
        "id": "6JaM3EYpDvv3",
        "outputId": "c5565c86-e32c-46a0-cccf-c7c381fb55e7"
      },
      "execution_count": 28,
      "outputs": [
        {
          "output_type": "display_data",
          "data": {
            "text/plain": [
              "<Figure size 640x480 with 1 Axes>"
            ],
            "image/png": "[encoded data removed]"
          },
          "metadata": {}
        },
        {
          "output_type": "stream",
          "name": "stdout",
          "text": [
            "Skewness: -0.049486653278900124\n",
            "Kurtosis: -0.10537181199119505\n"
          ]
        }
      ]
    },
    {
      "cell_type": "code",
      "source": [
        "#Q.24  Implement the Pearson and Spearman correlation coefficients for a dataset\n",
        "#ANS:\n",
        "from scipy.stats import pearsonr, spearmanr\n",
        "\n",
        "x = [10, 20, 30, 40, 50]\n",
        "y = [15, 25, 35, 45, 55]\n",
        "\n",
        "pearson_corr, _ = pearsonr(x, y)\n",
        "spearman_corr, _ = spearmanr(x, y)\n",
        "\n",
        "print(\"Pearson Correlation:\", pearson_corr)\n",
        "print(\"Spearman Correlation:\", spearman_corr)\n"
      ],
      "metadata": {
        "colab": {
          "base_uri": "https://localhost:8080/"
        },
        "id": "5xyxM_zmD3Nh",
        "outputId": "0ae1f829-129d-4394-e752-355463ef4b52"
      },
      "execution_count": 29,
      "outputs": [
        {
          "output_type": "stream",
          "name": "stdout",
          "text": [
            "Pearson Correlation: 0.9999999999999998\n",
            "Spearman Correlation: 0.9999999999999999\n"
          ]
        }
      ]
    },
    {
      "cell_type": "code",
      "source": [],
      "metadata": {
        "id": "f_9pcNTEEMpU"
      },
      "execution_count": null,
      "outputs": []
    }
  ]
}